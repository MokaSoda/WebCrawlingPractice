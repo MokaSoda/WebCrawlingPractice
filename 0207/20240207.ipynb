{
 "cells": [
  {
   "cell_type": "code",
   "execution_count": 27,
   "id": "initial_id",
   "metadata": {
    "collapsed": true,
    "ExecuteTime": {
     "end_time": "2024-02-07T00:33:29.798180600Z",
     "start_time": "2024-02-07T00:33:29.328052900Z"
    }
   },
   "outputs": [
    {
     "name": "stdout",
     "output_type": "stream",
     "text": [
      "<class 'http.client.HTTPResponse'>\n"
     ]
    }
   ],
   "source": [
    "# urllib 를 활용한 당근 마켓 다운테스트\n",
    "from urllib.request import urlopen\n",
    "from urllib.error import HTTPError\n",
    "from urllib.error import URLError\n",
    "\n",
    "html = urlopen(\"https://www.google.com\")\n",
    "print(type(html))\n",
    "# print(html.read())"
   ]
  },
  {
   "cell_type": "code",
   "outputs": [
    {
     "name": "stdout",
     "output_type": "stream",
     "text": [
      "\n",
      "Lorem ipsum dolor sit amet, consectetur adipisicing elit, sed do eiusmod tempor incididunt ut labore et dolore magna aliqua. Ut enim ad minim veniam, quis nostrud exercitation ullamco laboris nisi ut aliquip ex ea commodo consequat. Duis aute irure dolor in reprehenderit in voluptate velit esse cillum dolore eu fugiat nulla pariatur. Excepteur sint occaecat cupidatat non proident, sunt in culpa qui officia deserunt mollit anim id est laborum.\n"
     ]
    }
   ],
   "source": [
    "from urllib.request import urlopen\n",
    "from bs4 import BeautifulSoup as BeautifulSoup\n",
    "\n",
    "html = urlopen(\"https://www.pythonscraping.com/pages/page1.html\")\n",
    "soup = BeautifulSoup(html.read(), 'lxml')\n",
    "# print(soup)\n",
    "save = soup.div\n",
    "print(soup.div.string)"
   ],
   "metadata": {
    "collapsed": false,
    "ExecuteTime": {
     "end_time": "2024-02-07T00:24:21.210870300Z",
     "start_time": "2024-02-07T00:24:20.483702200Z"
    }
   },
   "id": "3f8efcc066e6614",
   "execution_count": 23
  },
  {
   "cell_type": "code",
   "outputs": [
    {
     "name": "stdout",
     "output_type": "stream",
     "text": [
      "title: An Interesting Title\n"
     ]
    }
   ],
   "source": [
    "print(\"title:\",soup.h1.string)"
   ],
   "metadata": {
    "collapsed": false,
    "ExecuteTime": {
     "end_time": "2024-02-07T00:27:02.305227Z",
     "start_time": "2024-02-07T00:27:02.301766Z"
    }
   },
   "id": "90e0fcc6027e9876",
   "execution_count": 26
  },
  {
   "cell_type": "code",
   "outputs": [
    {
     "name": "stdout",
     "output_type": "stream",
     "text": [
      "<div>\n",
      "Lorem ipsum dolor sit amet, consectetur adipisicing elit, sed do eiusmod tempor incididunt ut labore et dolore magna aliqua. Ut enim ad minim veniam, quis nostrud exercitation ullamco laboris nisi ut aliquip ex ea commodo consequat. Duis aute irure dolor in reprehenderit in voluptate velit esse cillum dolore eu fugiat nulla pariatur. Excepteur sint occaecat cupidatat non proident, sunt in culpa qui officia deserunt mollit anim id est laborum.\n",
      "</div>\n"
     ]
    }
   ],
   "source": [
    "def getTitle(url, tag):\n",
    "    try:\n",
    "        html = urlopen(url)\n",
    "    except HTTPError as e:\n",
    "        return None\n",
    "    try:\n",
    "        bsObj = BeautifulSoup(html.read(), 'lxml')\n",
    "        value = bsObj.find(tag)\n",
    "    except AttributeError as e:\n",
    "        return None\n",
    "    \n",
    "    return value\n",
    "\n",
    "tag = 'div'\n",
    "value = getTitle(\"https://www.pythonscraping.com/pages/page1.html\", tag)\n",
    "\n",
    "\n",
    "if value:\n",
    "    print(value)\n",
    "else:\n",
    "    print(f'{tag} could not be found')"
   ],
   "metadata": {
    "collapsed": false,
    "ExecuteTime": {
     "end_time": "2024-02-07T00:40:51.073812100Z",
     "start_time": "2024-02-07T00:40:49.964492700Z"
    }
   },
   "id": "4b97e6a204f11f6a",
   "execution_count": 39
  },
  {
   "cell_type": "code",
   "outputs": [
    {
     "name": "stdout",
     "output_type": "stream",
     "text": [
      "html.encoding: ISO-8859-1\n",
      "<html>\n",
      "<head>\n",
      "<title>A Useful Page</title>\n",
      "</head>\n",
      "<body>\n",
      "<h1>An Interesting Title</h1>\n",
      "<div>\n",
      "Lorem ipsum dolor sit amet, consectetur adipisicing elit, sed do eiusmod tempor incididunt ut labore et dolore magna aliqua. Ut enim ad minim veniam, quis nostrud exercitation ullamco laboris nisi ut aliquip ex ea commodo consequat. Duis aute irure dolor in reprehenderit in voluptate velit esse cillum dolore eu fugiat nulla pariatur. Excepteur sint occaecat cupidatat non proident, sunt in culpa qui officia deserunt mollit anim id est laborum.\n",
      "</div>\n",
      "</body>\n",
      "</html>\n",
      "\n",
      "\n",
      "h1.string:  An Interesting Title\n"
     ]
    }
   ],
   "source": [
    "import  requests\n",
    "\n",
    "url = 'https://www.pythonscraping.com/pages/page1.html'\n",
    "\n",
    "html = requests.get(url)\n",
    "print('html.encoding:', html.encoding)\n",
    "print(html.text)\n",
    "\n",
    "soup = BeautifulSoup(html.text, 'lxml')\n",
    "\n",
    "print()\n",
    "print('h1.string: ', soup.h1.string)"
   ],
   "metadata": {
    "collapsed": false,
    "ExecuteTime": {
     "end_time": "2024-02-07T00:49:03.852025Z",
     "start_time": "2024-02-07T00:49:02.051239100Z"
    }
   },
   "id": "22a6f7cb82f64492",
   "execution_count": 40
  },
  {
   "cell_type": "code",
   "outputs": [],
   "source": [
    "from urllib.request import urlopen\n",
    "from urllib.request import Request\n",
    "from bs4 import BeautifulSoup\n",
    "\n",
    "\n",
    "melon_url = 'https://www.melon.com/chart/index.htm'\n",
    "html = urlopen(Request(melon_url, headers={'User-Agent': 'Mozilla/5.0'}))\n",
    "result = html.read().decode('utf-8')\n",
    "soup = BeautifulSoup(result, 'lxml')"
   ],
   "metadata": {
    "collapsed": false,
    "ExecuteTime": {
     "end_time": "2024-02-07T02:22:13.786841Z",
     "start_time": "2024-02-07T02:22:13.042303700Z"
    }
   },
   "id": "94b6d41918150948",
   "execution_count": 76
  },
  {
   "cell_type": "code",
   "outputs": [
    {
     "name": "stdout",
     "output_type": "stream",
     "text": [
      "Love wins all\n",
      "To. X\n",
      "비의 랩소디\n",
      "Love 119\n",
      "에피소드\n",
      "Perfect Night\n",
      "Drama\n",
      "그대만 있다면 (여름날 우리 X 너드커넥션 (Nerd Connection))\n",
      "사랑은 늘 도망가\n",
      "헤어지자 말해요\n",
      "모래 알갱이\n",
      "Seven (feat. Latto) - Clean Ver.\n",
      "우리들의 블루스\n",
      "인사\n",
      "Wife\n",
      "첫 만남은 계획대로 되지 않아\n",
      "Do or Die\n",
      "다시 만날 수 있을까\n",
      "I AM\n",
      "Super Lady\n",
      "Get A Guitar\n",
      "이제 나만 믿어요\n",
      "무지개\n",
      "Baddie\n",
      "London Boy\n",
      "꿈\n",
      "Love Lee\n",
      "Polaroid\n",
      "아버지\n",
      "인생찬가\n",
      "MANIAC\n",
      "너의 모든 순간\n",
      "A bientot\n",
      "You & Me\n",
      "Standing Next to You\n",
      "사막에서 꽃을 피우듯\n",
      "연애편지\n",
      "Super Shy\n",
      "첫 눈\n",
      "후라이의 꿈\n",
      "잘 지내자, 우리 (여름날 우리 X 로이킴)\n",
      "퀸카 (Queencard)\n",
      "Ditto\n",
      "Hype Boy\n",
      "예뻤어\n",
      "사랑인가 봐\n",
      "ETA\n",
      "어떻게 이별까지 사랑하겠어, 널 사랑하는 거지\n",
      "사건의 지평선\n",
      "사랑할 수밖에\n",
      "별 떨어진다 (I Do)\n",
      "Spicy\n",
      "사랑하지 않아서 그랬어\n",
      "그대가 내 안에 박혔다(그내박)\n",
      "취중고백\n",
      "심(心)\n",
      "Dynamite\n",
      "봄날\n",
      "한 페이지가 될 수 있게\n",
      "Discord\n",
      "I Don't Think That I Like Her\n",
      "Kitsch\n",
      "모든 날, 모든 순간 (Every day, Every Moment)\n",
      "LOVE DIVE\n",
      "그대가 있는 곳, 언제 어디든\n",
      "I Love You\n",
      "해요 (2022)\n",
      "물론\n",
      "이브, 프시케 그리고 푸른 수염의 아내\n",
      "음악의 신\n",
      "기억해줘요 내 모든 날과 그때를\n",
      "사랑..그게 뭔데\n",
      "주저하는 연인들을 위해\n",
      "Steal The Show (From “엘리멘탈”)\n",
      "그중에 그대를 만나\n",
      "Smoke (Prod. Dynamicduo, Padi)\n",
      "Fast Forward\n",
      "OMG\n",
      "손오공\n",
      "After LIKE\n",
      "파이팅 해야지 (Feat. 이영지)\n",
      "다정히 내 이름을 부르면\n",
      "Either Way\n",
      "Butter\n",
      "Off The Record\n",
      "Dangerously\n",
      "Bubble\n",
      "잠시라도 우리\n",
      "나에게 그대만이\n",
      "Merry PLLIstmas\n",
      "Attention\n",
      "여섯 번째 여름\n",
      "눈이 오잖아(Feat.헤이즈)\n",
      "Yes or No (Feat. 허윤진 of LE SSERAFIM, Crush)\n",
      "건물 사이에 피어난 장미 (Rose Blossom)\n",
      "UNFORGIVEN (feat. Nile Rodgers)\n",
      "Chill Kill\n",
      "Talk Saxy\n",
      "내일 이별\n",
      "GODS\n",
      "아이유\n",
      "태연 (TAEYEON)\n",
      "임재현\n",
      "RIIZE\n",
      "이무진\n",
      "LE SSERAFIM (르세라핌)\n",
      "aespa\n",
      "너드커넥션 (Nerd Connection)\n",
      "임영웅\n",
      "박재정\n",
      "임영웅\n",
      "정국\n",
      "임영웅\n",
      "범진\n",
      "(여자)아이들\n",
      "TWS (투어스)\n",
      "임영웅\n",
      "임영웅\n",
      "IVE (아이브)\n",
      "(여자)아이들\n",
      "RIIZE\n",
      "임영웅\n",
      "임영웅\n",
      "IVE (아이브)\n",
      "임영웅\n",
      "태연 (TAEYEON)\n",
      "AKMU (악뮤)\n",
      "임영웅\n",
      "임영웅\n",
      "임영웅\n",
      "VIVIZ (비비지)\n",
      "성시경\n",
      "임영웅\n",
      "제니 (JENNIE)\n",
      "정국\n",
      "우디 (Woody)\n",
      "임영웅\n",
      "NewJeans\n",
      "EXO\n",
      "AKMU (악뮤)\n",
      "로이킴\n",
      "(여자)아이들\n",
      "NewJeans\n",
      "NewJeans\n",
      "DAY6 (데이식스)\n",
      "멜로망스\n",
      "NewJeans\n",
      "AKMU (악뮤)\n",
      "윤하 (YOUNHA)\n",
      "볼빨간사춘기\n",
      "디오 (D.O.)\n",
      "aespa\n",
      "임한별\n",
      "순순희(기태)\n",
      "김민석\n",
      "DK(디셈버)\n",
      "방탄소년단\n",
      "방탄소년단\n",
      "DAY6 (데이식스)\n",
      "QWER\n",
      "Charlie Puth\n",
      "IVE (아이브)\n",
      "폴킴\n",
      "IVE (아이브)\n",
      "로이킴\n",
      "안세하\n",
      "#안녕\n",
      "허각\n",
      "LE SSERAFIM (르세라핌)\n",
      "세븐틴 (SEVENTEEN)\n",
      "화곡동 청개구리\n",
      "지아\n",
      "잔나비\n",
      "Lauv\n",
      "김호중\n",
      "다이나믹 듀오\n",
      "전소미\n",
      "NewJeans\n",
      "세븐틴 (SEVENTEEN)\n",
      "IVE (아이브)\n",
      "부석순 (SEVENTEEN)\n",
      "경서예지\n",
      "IVE (아이브)\n",
      "방탄소년단\n",
      "IVE (아이브)\n",
      "Charlie Puth\n",
      "STAYC(스테이씨)\n",
      "성시경\n",
      "탑현\n",
      "PLAVE\n",
      "NewJeans\n",
      "PLAVE\n",
      "이무진\n",
      "그루비룸 (GroovyRoom)\n",
      "H1-KEY (하이키)\n",
      "LE SSERAFIM (르세라핌)\n",
      "Red Velvet (레드벨벳)\n",
      "RIIZE\n",
      "김나영\n",
      "NewJeans\n",
      "Love wins all\n",
      "To. X - The 5th Mini Album\n",
      "비의 랩소디\n",
      "Love 119\n",
      "에피소드\n",
      "Perfect Night\n",
      "Drama - The 4th Mini Album\n",
      "그대만 있다면 (여름날 우리 X 너드커넥션 (Nerd Connection))\n",
      "신사와 아가씨 OST Part.2\n",
      "1집 Alone\n",
      "모래 알갱이\n",
      "Seven (feat. Latto) - Clean Ver.\n",
      "IM HERO\n",
      "인사\n",
      "2\n",
      "TWS 1st Mini Album ‘Sparkling Blue’\n",
      "Do or Die\n",
      "IM HERO\n",
      "I've IVE\n",
      "2\n",
      "Get A Guitar\n",
      "내일은 미스터트롯 우승자 특전곡\n",
      "IM HERO\n",
      "I'VE MINE\n",
      "Polaroid\n",
      "웰컴투 삼달리 OST Part.3\n",
      "Love Lee\n",
      "Polaroid\n",
      "IM HERO\n",
      "IM HERO\n",
      "The 4th Mini Album 'VERSUS'\n",
      "별에서 온 그대 OST Part.7\n",
      "IM HERO\n",
      "JENNIE Special Single [You & Me]\n",
      "GOLDEN\n",
      "사막에서 꽃을 피우듯\n",
      "IM HERO\n",
      "NewJeans 2nd EP 'Get Up'\n",
      "겨울 스페셜 앨범 '12월의 기적 (Miracles In December)'\n",
      "Love Lee\n",
      "잘 지내자, 우리 (여름날 우리 X 로이킴)\n",
      "I feel\n",
      "NewJeans 'OMG'\n",
      "NewJeans 1st EP 'New Jeans'\n",
      "Every DAY6 February\n",
      "사랑인가 봐 (사내맞선 OST 스페셜 트랙)\n",
      "NewJeans 2nd EP 'Get Up'\n",
      "항해\n",
      "YOUNHA 6th Album Repackage 'END THEORY : Final Edition'\n",
      "Merry Go Round\n",
      "기대 - The 2nd Mini Album\n",
      "MY WORLD - The 3rd Mini Album\n",
      "사랑하지 않아서 그랬어\n",
      "그대가 내 안에 박혔다(그내박)\n",
      "취중고백\n",
      "심(心)\n",
      "Dynamite (DayTime Version)\n",
      "YOU NEVER WALK ALONE\n",
      "The Book of Us : Gravity\n",
      "1st Single Album 'Harmony from Discord'\n",
      "CHARLIE\n",
      "I've IVE\n",
      "'키스 먼저 할까요?' OST Part.3\n",
      "LOVE DIVE\n",
      "로이킴 X 마이데몬\n",
      "I Love You\n",
      "해요 (2022)\n",
      "물론\n",
      "UNFORGIVEN\n",
      "SEVENTEEN 11th Mini Album ‘SEVENTEENTH HEAVEN'\n",
      "기억해줘요 내 모든 날과 그때를\n",
      "사랑..그게 뭔데\n",
      "전설\n",
      "Steal The Show (From “엘리멘탈”)\n",
      "삼남매가 용감하게 OST Part.1\n",
      "스트릿 우먼 파이터2(SWF2) 계급미션\n",
      "GAME PLAN\n",
      "NewJeans 'OMG'\n",
      "SEVENTEEN 10th Mini Album ‘FML'\n",
      "After LIKE\n",
      "부석순 1st Single Album 'SECOND WIND'\n",
      "다정히 내 이름을 부르면 (경서예지 x 전건호)\n",
      "I'VE MINE\n",
      "Butter\n",
      "I'VE MINE\n",
      "Nine Track Mind (Deluxe Edition)\n",
      "TEENFRESH\n",
      "잠시라도 우리\n",
      "나에게 그대만이\n",
      "Merry PLLIstmas\n",
      "NewJeans 1st EP 'New Jeans'\n",
      "ASTERUM : The Shape of Things to Come\n",
      "눈이 오잖아(Feat.헤이즈)\n",
      "Yes or No\n",
      "H1-KEY 1st Mini Album [Rose Blossom]\n",
      "UNFORGIVEN\n",
      "Chill Kill - The 3rd Album\n",
      "Talk Saxy\n",
      "내일 이별\n",
      "2023 리그 오브 레전드 월드 챔피언십 주제곡\n"
     ]
    }
   ],
   "source": [
    "\n",
    "for name, location in [('음악이름','01'), ('가수','02'),('알파','03')]:\n",
    "    for x in soup.findAll('div', class_=  f'ellipsis rank{location}'):\n",
    "        print(x.find('a').string)"
   ],
   "metadata": {
    "collapsed": false,
    "ExecuteTime": {
     "end_time": "2024-02-07T02:26:36.237600500Z",
     "start_time": "2024-02-07T02:26:36.227335900Z"
    }
   },
   "id": "15e8e1ac91d45eb7",
   "execution_count": 85
  },
  {
   "cell_type": "code",
   "outputs": [
    {
     "name": "stderr",
     "output_type": "stream",
     "text": [
      "C:\\Users\\Administrator\\AppData\\Local\\Temp\\ipykernel_7196\\2770185151.py:3: FutureWarning: Passing literal html to 'read_html' is deprecated and will be removed in a future version. To read from a literal string, wrap it in a 'StringIO' object.\n",
      "  top100 = pd.read_html(result)[0][['순위', '곡정보', '앨범']]\n"
     ]
    }
   ],
   "source": [
    "import pandas as pd\n",
    "\n",
    "top100 = pd.read_html(result)[0][['순위', '곡정보', '앨범']]\n",
    "top100.set_index('순위', inplace=True)"
   ],
   "metadata": {
    "collapsed": false,
    "ExecuteTime": {
     "end_time": "2024-02-07T02:15:17.904603900Z",
     "start_time": "2024-02-07T02:15:17.855868200Z"
    }
   },
   "id": "b243bd2138a952e5",
   "execution_count": 56
  },
  {
   "cell_type": "code",
   "outputs": [],
   "source": [
    "from urllib.request import urlopen\n",
    "from urllib.request import Request\n",
    "from bs4 import  BeautifulSoup\n",
    "\n",
    "html = urlopen(Request(url = 'https://www.daangn.com/hot_articles', headers={'User-Agent': 'Mozilla/5.0'}))\n",
    "bs = BeautifulSoup(html.read(), 'lxml')\n",
    "\n",
    "headh1 = bs.find(class_ = 'head-title')"
   ],
   "metadata": {
    "collapsed": false,
    "ExecuteTime": {
     "end_time": "2024-02-07T04:05:49.168648Z",
     "start_time": "2024-02-07T04:05:48.610571100Z"
    }
   },
   "id": "c724dc2ad3117b58",
   "execution_count": 7
  },
  {
   "cell_type": "code",
   "outputs": [
    {
     "data": {
      "text/plain": "'중고거래 인기매물'"
     },
     "execution_count": 11,
     "metadata": {},
     "output_type": "execute_result"
    }
   ],
   "source": [
    "headh1.string.strip()"
   ],
   "metadata": {
    "collapsed": false,
    "ExecuteTime": {
     "end_time": "2024-02-07T04:06:03.178869900Z",
     "start_time": "2024-02-07T04:06:03.165235200Z"
    }
   },
   "id": "69399ae7c9714bd1",
   "execution_count": 11
  },
  {
   "cell_type": "code",
   "outputs": [],
   "source": [
    "f = open('chap02.html', 'r', encoding='utf-8')\n",
    "html_example = f.read()\n",
    "f.close()"
   ],
   "metadata": {
    "collapsed": false,
    "ExecuteTime": {
     "end_time": "2024-02-07T04:10:41.653052800Z",
     "start_time": "2024-02-07T04:10:41.649456100Z"
    }
   },
   "id": "efbcef9ec0fc9dd4",
   "execution_count": 22
  },
  {
   "cell_type": "code",
   "outputs": [
    {
     "data": {
      "text/plain": "[<a class=\"external_link\" href=\"www.google.com\">google</a>,\n <a class=\"external_link\" href=\"www.naver.com\">naver</a>]"
     },
     "execution_count": 23,
     "metadata": {},
     "output_type": "execute_result"
    }
   ],
   "source": [
    "soupEx = BeautifulSoup(html_example, 'lxml')\n",
    "\n",
    "soupEx.findAll(class_ = 'external_link')\n"
   ],
   "metadata": {
    "collapsed": false,
    "ExecuteTime": {
     "end_time": "2024-02-07T04:10:41.967836400Z",
     "start_time": "2024-02-07T04:10:41.951850Z"
    }
   },
   "id": "bde7fbf93fd69636",
   "execution_count": 23
  },
  {
   "cell_type": "code",
   "outputs": [
    {
     "name": "stdout",
     "output_type": "stream",
     "text": [
      "Example page\n",
      "www.google.com\n",
      "www.naver.com\n",
      "/pages/page1.html\n"
     ]
    }
   ],
   "source": [
    "print((soupEx.find(id='text_id2')).get_text().strip().split('\\n')[0])\n",
    "for x in soupEx.findAll('a'):\n",
    "    print(x['href'])\n"
   ],
   "metadata": {
    "collapsed": false,
    "ExecuteTime": {
     "end_time": "2024-02-07T04:25:29.057112500Z",
     "start_time": "2024-02-07T04:25:29.043725600Z"
    }
   },
   "id": "8104a99740bed06e",
   "execution_count": 67
  },
  {
   "cell_type": "code",
   "outputs": [
    {
     "data": {
      "text/plain": "<div id=\"text_id2\">\n        Example page\n        <p>g</p>\n</div>"
     },
     "execution_count": 74,
     "metadata": {},
     "output_type": "execute_result"
    }
   ],
   "source": [
    "soupEx.find('div', {\n",
    "    'id' : 'text_id2',\n",
    "})\n"
   ],
   "metadata": {
    "collapsed": false,
    "ExecuteTime": {
     "end_time": "2024-02-07T04:30:22.395396100Z",
     "start_time": "2024-02-07T04:30:22.381766800Z"
    }
   },
   "id": "c60784ff8c12dd7c",
   "execution_count": 74
  },
  {
   "cell_type": "code",
   "outputs": [
    {
     "name": "stdout",
     "output_type": "stream",
     "text": [
      "\n",
      "        Example page\n",
      "        g\n"
     ]
    }
   ],
   "source": [
    "div_text =  soupEx.find('div', {'id' : 'text_id2'})\n",
    "print(div_text.text)"
   ],
   "metadata": {
    "collapsed": false,
    "ExecuteTime": {
     "end_time": "2024-02-07T04:30:46.511143400Z",
     "start_time": "2024-02-07T04:30:46.496792500Z"
    }
   },
   "id": "b7833d608e80ee77",
   "execution_count": 76
  },
  {
   "cell_type": "code",
   "outputs": [
    {
     "name": "stdout",
     "output_type": "stream",
     "text": [
      "None\n",
      "\n",
      "        Example page\n",
      "        g\n",
      "\n",
      "\n",
      "        Example page\n",
      "        \n",
      "g\n"
     ]
    }
   ],
   "source": [
    "print(div_text.string)\n",
    "# 내부에 태그가 있는 경우 텍스트를 출력하지 못함\n",
    "print(div_text.get_text())\n",
    "\n",
    "for x in div_text.strings:\n",
    "    print(x)"
   ],
   "metadata": {
    "collapsed": false,
    "ExecuteTime": {
     "end_time": "2024-02-07T05:04:39.174841Z",
     "start_time": "2024-02-07T05:04:39.171515300Z"
    }
   },
   "id": "fbb14bc8c38fa184",
   "execution_count": 109
  },
  {
   "cell_type": "code",
   "outputs": [
    {
     "data": {
      "text/plain": "'\\n        Example page\\n        g\\n'"
     },
     "execution_count": 82,
     "metadata": {},
     "output_type": "execute_result"
    }
   ],
   "source": [
    "div_text.get_text()"
   ],
   "metadata": {
    "collapsed": false,
    "ExecuteTime": {
     "end_time": "2024-02-07T04:38:06.759642600Z",
     "start_time": "2024-02-07T04:38:06.745358Z"
    }
   },
   "id": "3de60dd7d78812c2",
   "execution_count": 82
  },
  {
   "cell_type": "code",
   "outputs": [
    {
     "name": "stdout",
     "output_type": "stream",
     "text": [
      "/pages/page1.html\n"
     ]
    }
   ],
   "source": [
    "href_link = soupEx.find('a', {\n",
    "    'class' : 'internal_link'\n",
    "})\n",
    "print(href_link['href'])"
   ],
   "metadata": {
    "collapsed": false,
    "ExecuteTime": {
     "end_time": "2024-02-07T04:38:40.664447300Z",
     "start_time": "2024-02-07T04:38:40.661948500Z"
    }
   },
   "id": "c23be9df28c214ed",
   "execution_count": 83
  },
  {
   "cell_type": "code",
   "outputs": [
    {
     "data": {
      "text/plain": "'Page1'"
     },
     "execution_count": 88,
     "metadata": {},
     "output_type": "execute_result"
    }
   ],
   "source": [
    "href_link.string"
   ],
   "metadata": {
    "collapsed": false,
    "ExecuteTime": {
     "end_time": "2024-02-07T04:39:11.091898200Z",
     "start_time": "2024-02-07T04:39:11.085165300Z"
    }
   },
   "id": "c6d55b672f8b1088",
   "execution_count": 88
  },
  {
   "cell_type": "code",
   "outputs": [
    {
     "data": {
      "text/plain": "'/pages/page1.html'"
     },
     "execution_count": 89,
     "metadata": {},
     "output_type": "execute_result"
    }
   ],
   "source": [
    "soupEx.find('a', {\n",
    "    'class' : 'internal_link'\n",
    "})['href']"
   ],
   "metadata": {
    "collapsed": false,
    "ExecuteTime": {
     "end_time": "2024-02-07T04:39:17.327612Z",
     "start_time": "2024-02-07T04:39:17.312100Z"
    }
   },
   "id": "afc7155b7f4cb584",
   "execution_count": 89
  },
  {
   "cell_type": "code",
   "outputs": [
    {
     "data": {
      "text/plain": "'Page1'"
     },
     "execution_count": 94,
     "metadata": {},
     "output_type": "execute_result"
    }
   ],
   "source": [
    "href_link.get_text()"
   ],
   "metadata": {
    "collapsed": false,
    "ExecuteTime": {
     "end_time": "2024-02-07T04:44:44.958602300Z",
     "start_time": "2024-02-07T04:44:44.934606900Z"
    }
   },
   "id": "a8092136da267b85",
   "execution_count": 94
  },
  {
   "cell_type": "code",
   "outputs": [
    {
     "name": "stdout",
     "output_type": "stream",
     "text": [
      "href_link.attr : {'class': ['internal_link'], 'href': '/pages/page1.html'}\n"
     ]
    }
   ],
   "source": [
    "print('href_link.attr :', href_link.attrs)"
   ],
   "metadata": {
    "collapsed": false,
    "ExecuteTime": {
     "end_time": "2024-02-07T04:45:04.071594500Z",
     "start_time": "2024-02-07T04:45:04.041059700Z"
    }
   },
   "id": "d41e0d7acd415b0f",
   "execution_count": 96
  },
  {
   "cell_type": "code",
   "outputs": [
    {
     "name": "stdout",
     "output_type": "stream",
     "text": [
      "class 속성값 : ['internal_link']\n",
      "values() : dict_values([['internal_link'], '/pages/page1.html'])\n",
      "values[0] : ['internal_link'], values[1] : /pages/page1.html\n"
     ]
    }
   ],
   "source": [
    "print('class 속성값 :', href_link['class'])\n",
    "print('values() :', href_link.attrs.values())\n",
    "\n",
    "value = list(href_link.attrs.values())\n",
    "\n",
    "print(f\"values[0] : {value[0]}, values[1] : {value[1]}\")"
   ],
   "metadata": {
    "collapsed": false,
    "ExecuteTime": {
     "end_time": "2024-02-07T04:46:19.838280600Z",
     "start_time": "2024-02-07T04:46:19.835781600Z"
    }
   },
   "id": "f66200709cbdbfb0",
   "execution_count": 98
  },
  {
   "cell_type": "code",
   "outputs": [
    {
     "data": {
      "text/plain": "<a class=\"external_link\" href=\"www.google.com\">google</a>"
     },
     "execution_count": 100,
     "metadata": {},
     "output_type": "execute_result"
    }
   ],
   "source": [
    "href_value = soupEx.find(attrs={'href': 'www.google.com'})\n",
    "href_value"
   ],
   "metadata": {
    "collapsed": false,
    "ExecuteTime": {
     "end_time": "2024-02-07T05:03:13.687956700Z",
     "start_time": "2024-02-07T05:03:13.661898400Z"
    }
   },
   "id": "eab816845b895376",
   "execution_count": 100
  },
  {
   "cell_type": "code",
   "outputs": [
    {
     "name": "stdout",
     "output_type": "stream",
     "text": [
      "href value : www.google.com\n",
      "google\n"
     ]
    }
   ],
   "source": [
    "print('href value :', href_value['href'])\n",
    "print(href_value.string)"
   ],
   "metadata": {
    "collapsed": false,
    "ExecuteTime": {
     "end_time": "2024-02-07T05:04:13.039070200Z",
     "start_time": "2024-02-07T05:04:13.036565700Z"
    }
   },
   "id": "fa5a43c280b08e54",
   "execution_count": 108
  },
  {
   "cell_type": "code",
   "outputs": [],
   "source": [
    "span_tag = soupEx.find('span')\n"
   ],
   "metadata": {
    "collapsed": false,
    "ExecuteTime": {
     "end_time": "2024-02-07T05:06:43.583253600Z",
     "start_time": "2024-02-07T05:06:43.577511800Z"
    }
   },
   "id": "93d78f5f9778c6f7",
   "execution_count": 112
  },
  {
   "cell_type": "code",
   "outputs": [
    {
     "name": "stdout",
     "output_type": "stream",
     "text": [
      "span tag  None\n"
     ]
    }
   ],
   "source": [
    "print('span tag ', span_tag) # span tag가 없음"
   ],
   "metadata": {
    "collapsed": false,
    "ExecuteTime": {
     "end_time": "2024-02-07T05:08:24.835615500Z",
     "start_time": "2024-02-07T05:08:24.828275800Z"
    }
   },
   "id": "6a85300983b79c42",
   "execution_count": 114
  },
  {
   "cell_type": "code",
   "outputs": [],
   "source": [
    "tr = '''\n",
    "<table>\n",
    "    <tr class = 'passed a b c' id = 'row1 ex'>\n",
    "        <td>t1</td>\n",
    "    </tr>\n",
    "    <tr class = 'failed' id='row2'>\n",
    "        <td>t2</td>\n",
    "    </tr>\n",
    "</table>\n",
    "\n",
    "'''\n",
    "\n",
    "trsoup = BeautifulSoup(tr, 'lxml')\n"
   ],
   "metadata": {
    "collapsed": false,
    "ExecuteTime": {
     "end_time": "2024-02-07T05:16:16.414912500Z",
     "start_time": "2024-02-07T05:16:16.407682300Z"
    }
   },
   "id": "6cac6ce92bc498d0",
   "execution_count": 117
  },
  {
   "cell_type": "code",
   "outputs": [
    {
     "name": "stdout",
     "output_type": "stream",
     "text": [
      "{'class': ['passed', 'a', 'b', 'c'], 'id': 'row1 ex'}\n",
      "{'class': ['failed'], 'id': 'row2'}\n"
     ]
    }
   ],
   "source": [
    "for row in trsoup.findAll('tr'):\n",
    "    print(row.attrs)"
   ],
   "metadata": {
    "collapsed": false,
    "ExecuteTime": {
     "end_time": "2024-02-07T05:21:41.407858300Z",
     "start_time": "2024-02-07T05:21:41.391019500Z"
    }
   },
   "id": "d0392a29b8e70e87",
   "execution_count": 119
  },
  {
   "cell_type": "code",
   "outputs": [
    {
     "name": "stdout",
     "output_type": "stream",
     "text": [
      "div_tag_length : 3\n",
      "----------------------------------------------------------------------\n",
      "<div id=\"link\">\n",
      "<a class=\"external_link\" href=\"www.google.com\">google</a>\n",
      "<div id=\"class1\">\n",
      "<p id=\"first\">class1's first paragraph</p>\n",
      "<a class=\"external_link\" href=\"www.naver.com\">naver</a>\n",
      "<p id=\"second\">class1's second paragraph</p>\n",
      "<a class=\"internal_link\" href=\"/pages/page1.html\">Page1</a>\n",
      "<p id=\"third\">class1's third paragraph</p>\n",
      "</div>\n",
      "</div>\n",
      "----------------------------------------------------------------------\n",
      "<div id=\"class1\">\n",
      "<p id=\"first\">class1's first paragraph</p>\n",
      "<a class=\"external_link\" href=\"www.naver.com\">naver</a>\n",
      "<p id=\"second\">class1's second paragraph</p>\n",
      "<a class=\"internal_link\" href=\"/pages/page1.html\">Page1</a>\n",
      "<p id=\"third\">class1's third paragraph</p>\n",
      "</div>\n",
      "----------------------------------------------------------------------\n",
      "<div id=\"text_id2\">\n",
      "        Example page\n",
      "        <p>g</p>\n",
      "</div>\n"
     ]
    }
   ],
   "source": [
    "div_tags = soupEx.findAll('div')\n",
    "print('div_tag_length :', len(div_tags))\n",
    "\n",
    "for div in div_tags:\n",
    "    print(\"-\"*70)\n",
    "    print(div)"
   ],
   "metadata": {
    "collapsed": false,
    "ExecuteTime": {
     "end_time": "2024-02-07T05:24:37.186842900Z",
     "start_time": "2024-02-07T05:24:37.173380400Z"
    }
   },
   "id": "ed9ecb16c0828282",
   "execution_count": 123
  },
  {
   "cell_type": "code",
   "outputs": [
    {
     "name": "stdout",
     "output_type": "stream",
     "text": [
      "<a class=\"external_link\" href=\"www.google.com\">google</a>\n",
      "url:www.google.com, text: google\n",
      "\n",
      "<a class=\"external_link\" href=\"www.naver.com\">naver</a>\n",
      "url:www.naver.com, text: naver\n",
      "\n",
      "<a class=\"internal_link\" href=\"/pages/page1.html\">Page1</a>\n",
      "url:/pages/page1.html, text: Page1\n"
     ]
    }
   ],
   "source": [
    "links = soupEx.findAll('a')\n",
    "\n",
    "for alink in links:\n",
    "    print(alink)\n",
    "    print(f\"url:{alink['href']}, text: {alink.string}\")\n",
    "    print()"
   ],
   "metadata": {
    "collapsed": false,
    "ExecuteTime": {
     "end_time": "2024-02-07T05:31:05.076181700Z",
     "start_time": "2024-02-07T05:31:05.060903100Z"
    }
   },
   "id": "e173d44d660c416e",
   "execution_count": 126
  },
  {
   "cell_type": "code",
   "outputs": [
    {
     "name": "stdout",
     "output_type": "stream",
     "text": [
      "<a class=\"external_link\" href=\"www.google.com\">google</a>\n",
      "<a class=\"external_link\" href=\"www.naver.com\">naver</a>\n",
      "<a class=\"internal_link\" href=\"/pages/page1.html\">Page1</a>\n"
     ]
    }
   ],
   "source": [
    "link_tags = soupEx.findAll('a', {\n",
    "    'class': ['external_link', 'internal_link']\n",
    "})\n",
    "\n",
    "print(\"\\n\".join([str(x) for x in link_tags]))"
   ],
   "metadata": {
    "collapsed": false,
    "ExecuteTime": {
     "end_time": "2024-02-07T05:33:08.161463100Z",
     "start_time": "2024-02-07T05:33:08.156387700Z"
    }
   },
   "id": "57923c9a9e194eab",
   "execution_count": 133
  },
  {
   "cell_type": "code",
   "outputs": [
    {
     "name": "stdout",
     "output_type": "stream",
     "text": [
      "<p id=\"first\">class1's first paragraph</p>\n",
      "<p id=\"second\">class1's second paragraph</p>\n"
     ]
    }
   ],
   "source": [
    "p_tags = soupEx.findAll('p', {'id':['first','second']})\n",
    "for p in p_tags:\n",
    "    print(p)"
   ],
   "metadata": {
    "collapsed": false,
    "ExecuteTime": {
     "end_time": "2024-02-07T05:39:55.829420Z",
     "start_time": "2024-02-07T05:39:55.727170600Z"
    }
   },
   "id": "8c55d69ccd8a53b",
   "execution_count": 134
  },
  {
   "cell_type": "markdown",
   "source": [
    "## 셀럭터 사용하기"
   ],
   "metadata": {
    "collapsed": false
   },
   "id": "1634967f7c3b308f"
  },
  {
   "cell_type": "code",
   "outputs": [
    {
     "data": {
      "text/plain": "<title>BeautifulSoup 활용</title>"
     },
     "execution_count": 138,
     "metadata": {},
     "output_type": "execute_result"
    }
   ],
   "source": [
    "soupEx.select_one('title')"
   ],
   "metadata": {
    "collapsed": false,
    "ExecuteTime": {
     "end_time": "2024-02-07T05:41:16.924576200Z",
     "start_time": "2024-02-07T05:41:16.901137900Z"
    }
   },
   "id": "32a1d45c63dab47e",
   "execution_count": 138
  },
  {
   "cell_type": "code",
   "outputs": [
    {
     "data": {
      "text/plain": "<h1 id=\"heading\">Heading 1</h1>"
     },
     "execution_count": 143,
     "metadata": {},
     "output_type": "execute_result"
    }
   ],
   "source": [
    "soupEx.select_one('h1#heading')"
   ],
   "metadata": {
    "collapsed": false,
    "ExecuteTime": {
     "end_time": "2024-02-07T05:41:32.057890300Z",
     "start_time": "2024-02-07T05:41:32.031269Z"
    }
   },
   "id": "4123eba3205b8a14",
   "execution_count": 143
  },
  {
   "cell_type": "code",
   "outputs": [
    {
     "data": {
      "text/plain": "[<h1 id=\"footer\">Footer</h1>]"
     },
     "execution_count": 185,
     "metadata": {},
     "output_type": "execute_result"
    }
   ],
   "source": [
    "soupEx.select('h1#footer')"
   ],
   "metadata": {
    "collapsed": false,
    "ExecuteTime": {
     "end_time": "2024-02-07T05:44:58.381229Z",
     "start_time": "2024-02-07T05:44:58.356011600Z"
    }
   },
   "id": "36d18ca631b7083a",
   "execution_count": 185
  },
  {
   "cell_type": "code",
   "outputs": [
    {
     "name": "stdout",
     "output_type": "stream",
     "text": [
      "<h1 id=\"footer\">Footer</h1>\n"
     ]
    }
   ],
   "source": [
    "footer = soupEx.select_one('h1#footer')\n",
    "print(footer)"
   ],
   "metadata": {
    "collapsed": false,
    "ExecuteTime": {
     "end_time": "2024-02-07T05:47:06.132837900Z",
     "start_time": "2024-02-07T05:47:06.103354Z"
    }
   },
   "id": "52e1da2afb12d072",
   "execution_count": 187
  },
  {
   "cell_type": "code",
   "outputs": [
    {
     "name": "stdout",
     "output_type": "stream",
     "text": [
      "<a class=\"internal_link\" href=\"/pages/page1.html\">Page1</a>\n",
      "/pages/page1.html\n",
      "Page1\n"
     ]
    }
   ],
   "source": [
    "class_link = soupEx.select_one('.internal_link')\n",
    "print(class_link)\n",
    "print(class_link['href'])\n",
    "print(class_link.string)"
   ],
   "metadata": {
    "collapsed": false,
    "ExecuteTime": {
     "end_time": "2024-02-07T06:06:26.107211800Z",
     "start_time": "2024-02-07T06:06:26.078926900Z"
    }
   },
   "id": "671966790dd050dd",
   "execution_count": 192
  },
  {
   "cell_type": "code",
   "outputs": [
    {
     "data": {
      "text/plain": "<a class=\"external_link\" href=\"www.google.com\">google</a>"
     },
     "execution_count": 195,
     "metadata": {},
     "output_type": "execute_result"
    }
   ],
   "source": [
    "link1 = soupEx.select_one('div#link > a.external_link')\n",
    "link1"
   ],
   "metadata": {
    "collapsed": false,
    "ExecuteTime": {
     "end_time": "2024-02-07T06:06:57.489911700Z",
     "start_time": "2024-02-07T06:06:57.458847Z"
    }
   },
   "id": "e2e780eba63fb7ca",
   "execution_count": 195
  },
  {
   "cell_type": "code",
   "outputs": [
    {
     "name": "stdout",
     "output_type": "stream",
     "text": [
      "find external_link <a class=\"external_link\" href=\"www.google.com\">google</a>\n"
     ]
    }
   ],
   "source": [
    "alink_find = soupEx.find('div', {'id':'link'})\n",
    "external_link = alink_find.find('a', {'class':'external_link'})\n",
    "print(\"find external_link\", external_link)"
   ],
   "metadata": {
    "collapsed": false,
    "ExecuteTime": {
     "end_time": "2024-02-07T06:07:48.889507500Z",
     "start_time": "2024-02-07T06:07:48.884390300Z"
    }
   },
   "id": "69032af08edc6fe0",
   "execution_count": 197
  },
  {
   "cell_type": "code",
   "outputs": [
    {
     "name": "stdout",
     "output_type": "stream",
     "text": [
      "<p id=\"second\">class1's second paragraph</p>\n",
      "class1's second paragraph\n"
     ]
    }
   ],
   "source": [
    "link2 = soupEx.select_one('div#class1 p#second')\n",
    "print(link2)\n",
    "print(link2.string)\n"
   ],
   "metadata": {
    "collapsed": false,
    "ExecuteTime": {
     "end_time": "2024-02-07T06:12:57.064743100Z",
     "start_time": "2024-02-07T06:12:57.035502100Z"
    }
   },
   "id": "77a577a6ff2cd3bb",
   "execution_count": 199
  },
  {
   "cell_type": "code",
   "outputs": [
    {
     "name": "stdout",
     "output_type": "stream",
     "text": [
      "h1_all [<h1 id=\"heading\">Heading 1</h1>, <h1 id=\"footer\">Footer</h1>]\n"
     ]
    }
   ],
   "source": [
    "print('h1_all', soupEx.select('h1'))"
   ],
   "metadata": {
    "collapsed": false,
    "ExecuteTime": {
     "end_time": "2024-02-07T06:13:39.422557500Z",
     "start_time": "2024-02-07T06:13:39.401121700Z"
    }
   },
   "id": "d6f7ca52474db431",
   "execution_count": 201
  },
  {
   "cell_type": "code",
   "outputs": [
    {
     "name": "stdout",
     "output_type": "stream",
     "text": [
      "www.google.com\n",
      "www.naver.com\n",
      "/pages/page1.html\n"
     ]
    }
   ],
   "source": [
    "for element in soupEx.select('a'):\n",
    "    print(element['href'])"
   ],
   "metadata": {
    "collapsed": false,
    "ExecuteTime": {
     "end_time": "2024-02-07T06:14:06.364761100Z",
     "start_time": "2024-02-07T06:14:06.345255Z"
    }
   },
   "id": "62df4f0a87346bba",
   "execution_count": 203
  },
  {
   "cell_type": "code",
   "outputs": [
    {
     "name": "stdout",
     "output_type": "stream",
     "text": [
      "[<a class=\"external_link\" href=\"www.naver.com\">naver</a>, <a class=\"internal_link\" href=\"/pages/page1.html\">Page1</a>]\n",
      "www.naver.com\n"
     ]
    }
   ],
   "source": [
    "div_urls = soupEx.select('div#class1 > a')\n",
    "print(div_urls)\n",
    "print(div_urls[0]['href'])"
   ],
   "metadata": {
    "collapsed": false,
    "ExecuteTime": {
     "end_time": "2024-02-07T06:17:43.845985Z",
     "start_time": "2024-02-07T06:17:43.825180900Z"
    }
   },
   "id": "eda6b851b3c41b15",
   "execution_count": 207
  },
  {
   "cell_type": "code",
   "outputs": [
    {
     "name": "stdout",
     "output_type": "stream",
     "text": [
      "www.naver.com\n",
      "/pages/page1.html\n"
     ]
    },
    {
     "data": {
      "text/plain": "'#answer-58681511 > div > div.answercell.post-layout--right > div.s-prose.js-post-body > h2:nth-child(1)'"
     },
     "execution_count": 210,
     "metadata": {},
     "output_type": "execute_result"
    }
   ],
   "source": [
    "div_urls2 = soupEx.select('div#class1 a')\n",
    "\n",
    "print(\"\\n\".join([x['href'] for x in div_urls2]))\n",
    "\n",
    "'#answer-58681511 > div > div.answercell.post-layout--right > div.s-prose.js-post-body > h2:nth-child(1)'\n"
   ],
   "metadata": {
    "collapsed": false,
    "ExecuteTime": {
     "end_time": "2024-02-07T06:21:28.328808400Z",
     "start_time": "2024-02-07T06:21:28.299710800Z"
    }
   },
   "id": "198afb47f1be577c",
   "execution_count": 210
  },
  {
   "cell_type": "code",
   "outputs": [
    {
     "name": "stdout",
     "output_type": "stream",
     "text": [
      "[<h1 id=\"heading\">Heading 1</h1>, <h1 id=\"footer\">Footer</h1>]\n"
     ]
    }
   ],
   "source": [
    "h1 = soupEx.select('#heading, #footer')\n",
    "print(h1)"
   ],
   "metadata": {
    "collapsed": false,
    "ExecuteTime": {
     "end_time": "2024-02-07T06:22:01.833308Z",
     "start_time": "2024-02-07T06:22:01.823646700Z"
    }
   },
   "id": "77e19bb76de8afd5",
   "execution_count": 215
  },
  {
   "cell_type": "code",
   "outputs": [
    {
     "name": "stdout",
     "output_type": "stream",
     "text": [
      "<a class=\"external_link\" href=\"www.google.com\">google</a>\n",
      "<a class=\"external_link\" href=\"www.naver.com\">naver</a>\n",
      "<a class=\"internal_link\" href=\"/pages/page1.html\">Page1</a>\n"
     ]
    }
   ],
   "source": [
    "url_links = soupEx.select('.external_link, .internal_link')\n",
    "print(\"\\n\".join([str(x)for x in url_links]))"
   ],
   "metadata": {
    "collapsed": false,
    "ExecuteTime": {
     "end_time": "2024-02-07T06:23:40.382175600Z",
     "start_time": "2024-02-07T06:23:40.346580500Z"
    }
   },
   "id": "8a4579eef470f9de",
   "execution_count": 220
  },
  {
   "cell_type": "code",
   "outputs": [],
   "source": [
    "nation_anthem = '''\n",
    "<!DOCTYPE html>\n",
    "<html lang=\"en\">\n",
    "<head>\n",
    "    <meta charset=\"UTF-8\">\n",
    "    <title>애국가</title>\n",
    "</head>\n",
    "<body>\n",
    "    <div>\n",
    "        <p id=\"title\">애국가</p>\n",
    "        <p class=\"content\">\n",
    "동해물과 백두산이 마르고 닳도록 하느님이 보우하사 우리나라 만세.<br>\n",
    "무궁화 삼천리 화려 강산 대한 사람 대한으로 길이 보전하세.<br>\n",
    "        </p>\n",
    "        <p class=\"content\">\n",
    "남산 위에 저 소나무 철갑을 두른 듯 바람서리 불변함은 우리 기상일세.<br>\n",
    "무궁화 삼천리 화려 강산 대한 사람 대한으로 길이 보전하세.<br>\n",
    "        </p>\n",
    "        <p class=\"content\">\n",
    "가을 하늘 공활한데 높고 구름 없이 밝은 달은 우리 가슴 일편단심일세.<br>\n",
    "무궁화 삼천리 화려 강산 대한 사람 대한으로 길이 보전하세.<br>\n",
    "        </p>\n",
    "        <p class=\"content\">\n",
    "이 기상과 이 맘으로 충성을 다하여 괴로우나 즐거우나 나라 사랑하세.<br>\n",
    "무궁화 삼천리 화려 강산 대한 사람 대한으로 길이 보전하세.<br>\n",
    "        </p>                \n",
    "    </div>\n",
    "</body>\n",
    "</html>\n",
    "'''"
   ],
   "metadata": {
    "collapsed": false,
    "ExecuteTime": {
     "end_time": "2024-02-07T06:27:18.375764300Z",
     "start_time": "2024-02-07T06:27:18.365455700Z"
    }
   },
   "id": "d021d626a5a5cfc",
   "execution_count": 230
  },
  {
   "cell_type": "code",
   "outputs": [
    {
     "name": "stdout",
     "output_type": "stream",
     "text": [
      "애국가\n",
      "\n",
      "1절\n",
      "동해물과 백두산이 마르고 닳도록 하느님이 보우하사 우리나라 만세.\n",
      "무궁화 삼천리 화려 강산 대한 사람 대한으로 길이 보전하세.\n",
      "\n",
      "2절\n",
      "남산 위에 저 소나무 철갑을 두른 듯 바람서리 불변함은 우리 기상일세.\n",
      "무궁화 삼천리 화려 강산 대한 사람 대한으로 길이 보전하세.\n",
      "\n",
      "3절\n",
      "가을 하늘 공활한데 높고 구름 없이 밝은 달은 우리 가슴 일편단심일세.\n",
      "무궁화 삼천리 화려 강산 대한 사람 대한으로 길이 보전하세.\n",
      "\n",
      "4절\n",
      "이 기상과 이 맘으로 충성을 다하여 괴로우나 즐거우나 나라 사랑하세.\n",
      "무궁화 삼천리 화려 강산 대한 사람 대한으로 길이 보전하세.\n"
     ]
    }
   ],
   "source": [
    "nation_anthem_soup = BeautifulSoup(nation_anthem, 'lxml')\n",
    "\n",
    "print(nation_anthem_soup.select_one('#title').string)\n",
    "print()\n",
    "for idx, x in enumerate(nation_anthem_soup.select('p.content'),1):\n",
    "    print(f\"{idx}절\")\n",
    "    print(x.get_text().strip())\n",
    "    print()\n",
    "    "
   ],
   "metadata": {
    "collapsed": false,
    "ExecuteTime": {
     "end_time": "2024-02-07T06:28:08.917531100Z",
     "start_time": "2024-02-07T06:28:08.900234600Z"
    }
   },
   "id": "e5d16e54df26d345",
   "execution_count": 237
  }
 ],
 "metadata": {
  "kernelspec": {
   "display_name": "Python 3",
   "language": "python",
   "name": "python3"
  },
  "language_info": {
   "codemirror_mode": {
    "name": "ipython",
    "version": 2
   },
   "file_extension": ".py",
   "mimetype": "text/x-python",
   "name": "python",
   "nbconvert_exporter": "python",
   "pygments_lexer": "ipython2",
   "version": "2.7.6"
  }
 },
 "nbformat": 4,
 "nbformat_minor": 5
}
