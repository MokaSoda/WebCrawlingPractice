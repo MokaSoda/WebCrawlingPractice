{
 "cells": [
  {
   "cell_type": "code",
   "execution_count": 1,
   "id": "initial_id",
   "metadata": {
    "collapsed": true,
    "ExecuteTime": {
     "end_time": "2024-02-08T08:34:18.375926700Z",
     "start_time": "2024-02-08T08:34:18.066908100Z"
    }
   },
   "outputs": [
    {
     "name": "stderr",
     "output_type": "stream",
     "text": [
      "C:\\Users\\Administrator\\AppData\\Local\\Temp\\ipykernel_16196\\1915490065.py:1: DeprecationWarning: \n",
      "Pyarrow will become a required dependency of pandas in the next major release of pandas (pandas 3.0),\n",
      "(to allow more performant data types, such as the Arrow string type, and better interoperability with other libraries)\n",
      "but was not found to be installed on your system.\n",
      "If this would cause problems for you,\n",
      "please provide us feedback at https://github.com/pandas-dev/pandas/issues/54466\n",
      "        \n",
      "  import pandas as pd\n"
     ]
    }
   ],
   "source": [
    "import pandas as pd\n"
   ]
  },
  {
   "cell_type": "code",
   "outputs": [
    {
     "name": "stdout",
     "output_type": "stream",
     "text": [
      "-----------------------------\n",
      "검색된 매장 수: 4\n",
      "-----------------------------\n",
      "[1] ['경북대북문점' '대구 북구' '대구광역시 북구 대학로 17길 3 (산격동 1393-11) 할리스 B1~3층'\n",
      " '053-951-9990']\n",
      "[2] ['대구관음점' '대구 북구' '대구광역시 북구 구암로 59 비전스퀘어 1,2층 .' '053-324-6122']\n",
      "[3] ['대구침산네거리점' '대구 북구' '대구광역시 북구 침산남로 157 (침산동) .' '053-353-5544']\n",
      "[4] ['대구침산점' '대구 북구' '대구 북구 성북로 36,2층 601,602,603,604 473-3, 침산초등학교 맞은편'\n",
      " '053-353-5412']\n",
      "[5] ['대구동천점' '대구 북구' '대구광역시 북구 동천로 125 (동천동) .' '053-321-0099']\n",
      "-----------------------------\n",
      "검색된 매장 수: 4\n",
      "-----------------------------\n",
      "[1] ['종각역점' '서울 종로구' '서울특별시 종로구 종로 60-1 종로2가 102-3' '02-736-3399']\n",
      "[2] ['독립문역점' '서울 종로구' '서울특별시 종로구 통일로 230 (무악동, 경희궁롯데캐슬) 상가동  1층' '02-725-7308']\n",
      "[3] ['성균관대점' '서울 종로구' '서울특별시 종로구 성균관로 6 (명륜2가 204) 1~4층' '02-743-8526']\n",
      "[4] ['청계천점' '서울 종로구' '서울특별시 종로구  청계천로 81 1,2,3,4층' '02-735-5462']\n",
      "[5] ['종로5가점' '서울 종로구' '서울특별시 종로구 동호로 401(종로5가) .' '02-2266-1989']\n",
      "[6] ['서울대병원점' '서울 종로구' '서울특별시 종로구 대학로 101 (연건동, 서울대학교의과대학)' '02-741-5815']\n",
      "[7] ['센터포인트점' '서울 종로구'\n",
      " '서울특별시 종로구 새문안로5길 31, 센터포인트광화문빌딩 1층 (도렴동 65, 센터포인트 광화문) 할리스'\n",
      " '02-6031-6213']\n",
      "[8] ['광화문LG점' '서울 종로구' '서울특별시 종로구 새문안로 58 (신문로2가, LG광화문빌딩) 1층, 지하1층'\n",
      " '02-720-6994']\n",
      "[9] ['세종로점' '서울 종로구' '서울특별시 종로구 세종대로 161, 2~3층 (세종로 200) 할리스' '02-720-5582']\n",
      "[10] ['종로코리안리빌딩점' '서울 종로구' '서울특별시 종로구 종로5길 68 코리안리빌딩 1층 할리스' '070-4733-4828']\n",
      "-----------------------------\n",
      "검색된 매장 수: 4\n",
      "-----------------------------\n"
     ]
    }
   ],
   "source": [
    "user = 'start'\n",
    "filename = 'hollys_branches.csv'\n",
    "df = pd.read_csv(filename)\n",
    "while user != 'quit':\n",
    "    user = input('검색할 매장의 도시를 입력하세요: ')\n",
    "    print(\"-----------------------------\")\n",
    "    \n",
    "    result = df[df['지역'].str.find(user) >= 0]\n",
    "    print(f\"검색된 매장 수: {result.shape[0]}\")\n",
    "    print(\"-----------------------------\")\n",
    "    if result.shape[1] > 0:\n",
    "        for idx, row in enumerate(result.values,1):\n",
    "            print(f'[{idx}]',row)\n",
    "    print(\"-----------------------------\" * 2)\n",
    "    \n",
    "print(\"종료합니다.\")"
   ],
   "metadata": {
    "collapsed": false,
    "ExecuteTime": {
     "end_time": "2024-02-08T08:41:40.208701500Z",
     "start_time": "2024-02-08T08:41:30.670801500Z"
    }
   },
   "id": "66a3120ad9d6b0b",
   "execution_count": 14
  }
 ],
 "metadata": {
  "kernelspec": {
   "display_name": "Python 3",
   "language": "python",
   "name": "python3"
  },
  "language_info": {
   "codemirror_mode": {
    "name": "ipython",
    "version": 2
   },
   "file_extension": ".py",
   "mimetype": "text/x-python",
   "name": "python",
   "nbconvert_exporter": "python",
   "pygments_lexer": "ipython2",
   "version": "2.7.6"
  }
 },
 "nbformat": 4,
 "nbformat_minor": 5
}
